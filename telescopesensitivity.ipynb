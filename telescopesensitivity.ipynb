{
 "cells": [
  {
   "cell_type": "code",
   "execution_count": 4,
   "metadata": {},
   "outputs": [],
   "source": [
    "import numpy as np\n",
    "from astropy import units as u\n",
    "from astropy import constants as const\n",
    "\n"
   ]
  },
  {
   "cell_type": "code",
   "execution_count": 29,
   "metadata": {},
   "outputs": [],
   "source": [
    "#calculate the Knu using adams code from https://github.com/keflavich/dust_emissivity\n",
    "\n",
    "\"\"\"\n",
    "===============\n",
    "Dust emissivity\n",
    "===============\n",
    "\"\"\"\n",
    "import numpy as np\n",
    "import os\n",
    "import requests\n",
    "from astropy.table import Table\n",
    "from astropy import constants\n",
    "from astropy import units as u\n",
    "from numpy import exp,log\n",
    "from scipy.integrate import quad\n",
    "\n",
    "def kappa(nu, nu0=271.1*u.GHz, kappa0=0.0114*u.cm**2*u.g**-1, beta=1.75):\n",
    "    \"\"\"\n",
    "    Compute the opacity $\\kappa$ given a reference frequency (or wavelength)\n",
    "    and a power law governing the opacity as a fuction of frequency:\n",
    "\n",
    "    $$ \\kappa = \\kappa_0 \\left(\\\\frac{\\\\nu}{\\\\nu_0}\\\\right)^{\\\\beta} $$\n",
    "\n",
    "    The default kappa=0.0114 at 271.1 GHz comes from extrapolating the\n",
    "    Ossenkopf & Henning 1994 opacities for the thin-ice-mantle, 10^6 year model\n",
    "    anchored at 1.0 mm with an assumed beta of 1.75.\n",
    "\n",
    "    Parameters\n",
    "    ----------\n",
    "    nu: astropy.Quantity [u.spectral() equivalent]\n",
    "        The frequency at which to evaluate kappa\n",
    "    nu0: astropy.Quantity [u.spectral() equivalent]\n",
    "        The reference frequency at which $\\kappa$ is defined\n",
    "    kappa0: astropy.Quantity [cm^2/g]\n",
    "        The dust opacity per gram of H2 along the line of sight.  Because of\n",
    "        the H2 conversion, this factor implicitly includes a dust to gas ratio\n",
    "        (usually assumed 100)\n",
    "    beta: float\n",
    "        The power-law index governing kappa as a function of nu\n",
    "    \"\"\"\n",
    "    return (kappa0*(nu.to(u.GHz,u.spectral())/nu0.to(u.GHz,u.spectral()))**(beta)).to(u.cm**2/u.g)\n",
    "\n",
    "\n",
    "\n"
   ]
  },
  {
   "cell_type": "code",
   "execution_count": 32,
   "metadata": {},
   "outputs": [
    {
     "name": "stdout",
     "output_type": "stream",
     "text": [
      "[0.80533899 0.80665827 0.80760238] mJy\n",
      "estimated on source time for SNR of 10 = [0.48352463 0.48194433 0.48081818] h\n"
     ]
    }
   ],
   "source": [
    "#http://articles.adsabs.harvard.edu/pdf/1994A%26A...291..943O\n",
    "\n",
    "#    mm           Ghz         Knu\n",
    "#    1.3           230GHz    0.023cm^2/g\n",
    "#    3             90\n",
    "\n",
    "\n",
    "\n",
    "nu = (90 * u.GHz).cgs\n",
    "#Knu= 0.023 * u.cm**2/u.g \n",
    "Knu = kappa(nu)\n",
    "\n",
    "dist = (131* u.pc).cgs\n",
    "\n",
    "Rdisk = ([75,100,150]* u.au).cgs\n",
    "Tdisk = (20* u.K).cgs\n",
    "Mdisk = (0.009*u.solMass).cgs #MMEN\n",
    "\n",
    "\n",
    "\n",
    "Ncol = Mdisk/(np.pi*(Rdisk)**2)\n",
    "\n",
    "tau = Knu * Ncol\n",
    "\n",
    "BBmod = (2*(const.h).cgs*nu**3)/((const.c).cgs**2)* (np.e**(((const.h).cgs*nu)/((const.k_B).cgs*Tdisk))-1)**-1 * (1-np.e**-tau)\n",
    "\n",
    "Snu = (BBmod * (Rdisk**2/(4*dist**2))*4*np.pi).to(u.mJy)\n",
    "\n",
    "print(Snu)\n",
    "\n",
    "\n",
    "\n",
    "\n",
    "###signal to noise time calc\n",
    "'''\n",
    "SNR = 10      #desired snr\n",
    "noise = 0.43* u.mJy #calculated from SMA calculator, mJy\n",
    "t0 = 6.52*u.hr    #time in hrs for an SMA track\n",
    "'''\n",
    "\n",
    "\n",
    "#https://www.gb.nrao.edu/mustang/\n",
    "#4'x4' fov with mustang2\n",
    "\n",
    "SNR = 10      #desired snr\n",
    "noise = 0.056 * u.mJy \n",
    "#noise = 56* u.uJy\n",
    "t0 = 1*u.hr\n",
    "\n",
    "time= t0*(SNR/(Snu/noise))**2\n",
    "\n",
    "print(f'estimated on source time for SNR of {SNR} = {time}')"
   ]
  },
  {
   "cell_type": "code",
   "execution_count": null,
   "metadata": {},
   "outputs": [],
   "source": []
  },
  {
   "cell_type": "code",
   "execution_count": null,
   "metadata": {},
   "outputs": [],
   "source": []
  }
 ],
 "metadata": {
  "kernelspec": {
   "display_name": "Python 3",
   "language": "python",
   "name": "python3"
  },
  "language_info": {
   "codemirror_mode": {
    "name": "ipython",
    "version": 3
   },
   "file_extension": ".py",
   "mimetype": "text/x-python",
   "name": "python",
   "nbconvert_exporter": "python",
   "pygments_lexer": "ipython3",
   "version": "3.6.10"
  }
 },
 "nbformat": 4,
 "nbformat_minor": 4
}
